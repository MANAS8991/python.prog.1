{
 "cells": [
  {
   "cell_type": "markdown",
   "id": "b416534c",
   "metadata": {},
   "source": [
    "# 1. Write a Python program to print &quot;Hello Python&quot;?"
   ]
  },
  {
   "cell_type": "code",
   "execution_count": 1,
   "id": "61572671",
   "metadata": {},
   "outputs": [
    {
     "name": "stdout",
     "output_type": "stream",
     "text": [
      "Hello Python\n"
     ]
    }
   ],
   "source": [
    "print(\"Hello Python\")"
   ]
  },
  {
   "cell_type": "markdown",
   "id": "9ec1e69c",
   "metadata": {},
   "source": [
    "# 2. Write a Python program to do arithmetical operations addition and division.?"
   ]
  },
  {
   "cell_type": "code",
   "execution_count": 2,
   "id": "b685d7f9",
   "metadata": {},
   "outputs": [
    {
     "name": "stdout",
     "output_type": "stream",
     "text": [
      "The sum is: 15\n"
     ]
    }
   ],
   "source": [
    "# Addition\n",
    "num1 = 10\n",
    "num2 = 5\n",
    "sum = num1 + num2\n",
    "print(\"The sum is:\", sum)"
   ]
  },
  {
   "cell_type": "code",
   "execution_count": 3,
   "id": "5fe7f0c0",
   "metadata": {},
   "outputs": [
    {
     "name": "stdout",
     "output_type": "stream",
     "text": [
      "The division result is: 5.0\n"
     ]
    }
   ],
   "source": [
    "# Division\n",
    "num3 = 20\n",
    "num4 = 4\n",
    "result = num3 / num4\n",
    "print(\"The division result is:\", result)"
   ]
  },
  {
   "cell_type": "markdown",
   "id": "072c26ff",
   "metadata": {},
   "source": [
    "# 3. Write a Python program to find the area of a triangle?"
   ]
  },
  {
   "cell_type": "code",
   "execution_count": 4,
   "id": "c68432c5",
   "metadata": {},
   "outputs": [
    {
     "name": "stdout",
     "output_type": "stream",
     "text": [
      "Enter the base of the triangle: 4\n",
      "Enter the height of the triangle: 6\n",
      "The area of the triangle is: 12.0\n"
     ]
    }
   ],
   "source": [
    "base = float(input(\"Enter the base of the triangle: \"))\n",
    "height = float(input(\"Enter the height of the triangle: \"))\n",
    "\n",
    "area = 0.5 * base * height\n",
    "\n",
    "print(\"The area of the triangle is:\", area)\n"
   ]
  },
  {
   "cell_type": "markdown",
   "id": "15dbf2de",
   "metadata": {},
   "source": [
    "# 4. Write a Python program to swap two variables?"
   ]
  },
  {
   "cell_type": "code",
   "execution_count": 5,
   "id": "f2fb253c",
   "metadata": {},
   "outputs": [
    {
     "name": "stdout",
     "output_type": "stream",
     "text": [
      "Enter the value of x: 7\n",
      "Enter the value of y: 9\n",
      "Before swapping:\n",
      "x = 7\n",
      "y = 9\n",
      "After swapping:\n",
      "x = 9\n",
      "y = 7\n"
     ]
    }
   ],
   "source": [
    "# Input values\n",
    "x = int(input(\"Enter the value of x: \"))\n",
    "y = int(input(\"Enter the value of y: \"))\n",
    "\n",
    "# Before swapping\n",
    "print(\"Before swapping:\")\n",
    "print(\"x =\", x)\n",
    "print(\"y =\", y)\n",
    "\n",
    "# Swap variables\n",
    "temp = x\n",
    "x = y\n",
    "y = temp\n",
    "\n",
    "# After swapping\n",
    "print(\"After swapping:\")\n",
    "print(\"x =\", x)\n",
    "print(\"y =\", y)\n"
   ]
  },
  {
   "cell_type": "markdown",
   "id": "e9aaf956",
   "metadata": {},
   "source": [
    "# 5. Write a Python program to generate a random number?"
   ]
  },
  {
   "cell_type": "code",
   "execution_count": 6,
   "id": "c46c7d82",
   "metadata": {},
   "outputs": [
    {
     "name": "stdout",
     "output_type": "stream",
     "text": [
      "Random number: 8\n"
     ]
    }
   ],
   "source": [
    "import random\n",
    "\n",
    "# Generate a random number between 1 and 10\n",
    "random_number = random.randint(1, 10)\n",
    "\n",
    "# Print the random number\n",
    "print(\"Random number:\", random_number)\n"
   ]
  },
  {
   "cell_type": "code",
   "execution_count": null,
   "id": "e3fbe06a",
   "metadata": {},
   "outputs": [],
   "source": []
  }
 ],
 "metadata": {
  "kernelspec": {
   "display_name": "Python 3 (ipykernel)",
   "language": "python",
   "name": "python3"
  },
  "language_info": {
   "codemirror_mode": {
    "name": "ipython",
    "version": 3
   },
   "file_extension": ".py",
   "mimetype": "text/x-python",
   "name": "python",
   "nbconvert_exporter": "python",
   "pygments_lexer": "ipython3",
   "version": "3.9.12"
  }
 },
 "nbformat": 4,
 "nbformat_minor": 5
}
